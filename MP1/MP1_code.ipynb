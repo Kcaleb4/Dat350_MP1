{
 "cells": [
  {
   "cell_type": "code",
   "execution_count": 2,
   "metadata": {},
   "outputs": [],
   "source": [
    "import pandas as pd "
   ]
  },
  {
   "cell_type": "code",
   "execution_count": 3,
   "metadata": {},
   "outputs": [],
   "source": [
    "import csv"
   ]
  },
  {
   "cell_type": "code",
   "execution_count": 4,
   "metadata": {},
   "outputs": [
    {
     "data": {
      "text/plain": [
       "(0.0, 0.13333333333333333, 0.4666666666666667, 0.4)"
      ]
     },
     "execution_count": 4,
     "metadata": {},
     "output_type": "execute_result"
    }
   ],
   "source": [
    "def getpercentyear():\n",
    "    with open(\"survey.csv\") as csvFile: \n",
    "      openCSV = csv.reader(csvFile, delimiter = \",\")\n",
    "      next(openCSV)\n",
    "      freshman = 0 \n",
    "      sophmore = 0 \n",
    "      junior = 0\n",
    "      senior = 0 \n",
    "      rowcount = 0 \n",
    "      for row in openCSV:\n",
    "         class_year = int(row[1])\n",
    "         rowcount += 1\n",
    "         if class_year == 2024:\n",
    "            senior += 1 \n",
    "         elif class_year == 2025:\n",
    "            junior += 1 \n",
    "         elif class_year == 2026:\n",
    "            sophmore += 1 \n",
    "         elif class_year == 2027:\n",
    "            freshman += 1 \n",
    "    return (freshman/rowcount, sophmore/rowcount, junior/rowcount, senior/rowcount)\n",
    "getpercentyear()"
   ]
  },
  {
   "cell_type": "code",
   "execution_count": 5,
   "metadata": {},
   "outputs": [
    {
     "name": "stdout",
     "output_type": "stream",
     "text": [
      "(0.8666666666666667, 0.13333333333333333)\n"
     ]
    }
   ],
   "source": [
    "\n",
    "\n",
    "def getpercentgender():\n",
    "    with open(\"survey.csv\") as csvFile:\n",
    "        openCSV = csv.reader(csvFile, delimiter=\",\")\n",
    "        next(openCSV)  # Skip header row\n",
    "        male = 0\n",
    "        female = 0\n",
    "        rowcount = 0\n",
    "\n",
    "        for row in openCSV:\n",
    "            gender = row[2]\n",
    "            rowcount += 1\n",
    "            if gender == \"Male\":\n",
    "                male += 1\n",
    "            elif gender == \"Female\":\n",
    "                female += 1\n",
    "\n",
    "    return (male / rowcount, female / rowcount)\n",
    "\n",
    "result = getpercentgender()\n",
    "print(result)\n"
   ]
  },
  {
   "cell_type": "code",
   "execution_count": 6,
   "metadata": {},
   "outputs": [
    {
     "name": "stdout",
     "output_type": "stream",
     "text": [
      "(0.13333333333333333, 0.13333333333333333, 0.06666666666666667, 0.06666666666666667, 0.06666666666666667, 0.2, 0.13333333333333333, 0.06666666666666667, 0.2)\n"
     ]
    }
   ],
   "source": [
    "\n",
    "def clean_major_name(major):\n",
    "    # Remove leading and trailing whitespaces and convert to lowercase\n",
    "    return major.strip().lower()\n",
    "\n",
    "def getpercentmajor():\n",
    "    with open(\"survey.csv\") as csvFile:\n",
    "        openCSV = csv.reader(csvFile, delimiter=\",\")\n",
    "        next(openCSV)  # Skip header row\n",
    "        finance = 0\n",
    "        EnvSci = 0\n",
    "        mark = 0\n",
    "        com = 0\n",
    "        chem = 0\n",
    "        Dat = 0\n",
    "        comsci = 0\n",
    "        AnSci = 0\n",
    "        rowcount = 0\n",
    "        creativeT = 0\n",
    "        for row in openCSV:\n",
    "            major = clean_major_name(row[3])\n",
    "            rowcount += 1\n",
    "            if major == \"finance\":\n",
    "                finance += 1\n",
    "            elif major == \"environmental science\":\n",
    "                EnvSci += 1\n",
    "            elif major == \"marketing\":\n",
    "                mark += 1\n",
    "            elif major == \"communication\":\n",
    "                com += 1\n",
    "            elif major == \"chemistry\":\n",
    "                chem += 1\n",
    "            elif major == \"data analytics\":\n",
    "                Dat += 1\n",
    "            elif major == \"data science\":\n",
    "                Dat += 1\n",
    "            elif major == \"computer science\":\n",
    "                comsci += 1\n",
    "            elif major == \"creative technologies\":\n",
    "                 creativeT += 1\n",
    "            elif major == \"animal science\":\n",
    "                AnSci += 1\n",
    "            elif major == \"computer science and creative technologies\":\n",
    "                creativeT += 1\n",
    "                comsci += 1 \n",
    "\n",
    "    return (\n",
    "        finance / rowcount, EnvSci / rowcount, mark / rowcount,\n",
    "        com / rowcount, chem / rowcount, Dat / rowcount,\n",
    "        comsci / rowcount, AnSci / rowcount, creativeT/rowcount\n",
    "    )\n",
    "\n",
    "result = getpercentmajor()\n",
    "print(result)\n"
   ]
  },
  {
   "cell_type": "code",
   "execution_count": 7,
   "metadata": {},
   "outputs": [
    {
     "data": {
      "text/plain": [
       "(0.13333333333333333,\n",
       " 0.13333333333333333,\n",
       " 0.26666666666666666,\n",
       " 0.4666666666666667)"
      ]
     },
     "execution_count": 7,
     "metadata": {},
     "output_type": "execute_result"
    }
   ],
   "source": [
    "\n",
    "def getpercentworkout():\n",
    "    with open(\"survey.csv\") as csvFile:\n",
    "        openCSV = csv.reader(csvFile, delimiter=\",\")\n",
    "        next(openCSV)  \n",
    "        legs = 0\n",
    "        back = 0\n",
    "        chest = 0\n",
    "        cardio = 0\n",
    "        rowcount = 0 \n",
    "        \n",
    "        for row in openCSV:\n",
    "            workout = row[4]\n",
    "            rowcount += 1\n",
    "            if workout == \"legs\":\n",
    "               legs += 1\n",
    "            elif workout == \"Back\":\n",
    "                back += 1\n",
    "            elif workout == \"Chest\":\n",
    "                chest += 1\n",
    "            elif workout== \"Cardio\":\n",
    "                cardio += 1\n",
    "           \n",
    "\n",
    "    return (\n",
    "        legs/ rowcount, back/ rowcount, chest / rowcount,\n",
    "        cardio/ rowcount\n",
    "            )\n",
    "\n",
    "getpercentworkout()\n"
   ]
  },
  {
   "cell_type": "code",
   "execution_count": 8,
   "metadata": {},
   "outputs": [
    {
     "data": {
      "text/plain": [
       "(0.2, 0.6, 0.2)"
      ]
     },
     "execution_count": 8,
     "metadata": {},
     "output_type": "execute_result"
    }
   ],
   "source": [
    "\n",
    "def getpercentwhen():\n",
    "    with open(\"survey.csv\") as csvFile:\n",
    "        openCSV = csv.reader(csvFile, delimiter=\",\")\n",
    "        next(openCSV)  \n",
    "        sometimes= 0\n",
    "        consistently = 0\n",
    "        often = 0\n",
    "        rowcount = 0\n",
    "        for row in openCSV:\n",
    "            when = row[5]\n",
    "            rowcount += 1\n",
    "            if when == \"Consistently (3 days a week)\":\n",
    "               consistently += 1\n",
    "            elif when == \"Often (5+ days a week)\":\n",
    "                often += 1\n",
    "            elif when == \"Sometimes (1 day a week)\":\n",
    "                sometimes += 1\n",
    "          \n",
    "           \n",
    "\n",
    "    return (\n",
    "        sometimes/ rowcount, consistently/ rowcount, often / rowcount\n",
    "            )\n",
    "\n",
    "getpercentwhen()"
   ]
  },
  {
   "cell_type": "code",
   "execution_count": 9,
   "metadata": {},
   "outputs": [
    {
     "data": {
      "text/plain": [
       "(0.26666666666666666,\n",
       " 0.06666666666666667,\n",
       " 0.13333333333333333,\n",
       " 0.5333333333333333)"
      ]
     },
     "execution_count": 9,
     "metadata": {},
     "output_type": "execute_result"
    }
   ],
   "source": [
    "\n",
    "def getpercentwhere():\n",
    "    with open(\"survey.csv\") as csvFile:\n",
    "        openCSV = csv.reader(csvFile, delimiter=\",\")\n",
    "        next(openCSV)  \n",
    "        Richards= 0\n",
    "        Cage  = 0\n",
    "        outdoors = 0\n",
    "        offcamp = 0\n",
    "        rowcount = 0 \n",
    "        for row in openCSV:\n",
    "            where = row[7]\n",
    "            rowcount += 1\n",
    "            if where == \"The Cage\":\n",
    "               Cage += 1\n",
    "            elif where == \"off campus\":\n",
    "                offcamp += 1\n",
    "            elif where == \"Richards\":\n",
    "                Richards += 1\n",
    "            elif where == \"outdoors\":\n",
    "                outdoors += 1\n",
    "          \n",
    "           \n",
    "\n",
    "    return (\n",
    "        Cage/ rowcount, offcamp/ rowcount, Richards / rowcount, outdoors/ rowcount \n",
    "            )\n",
    "\n",
    "getpercentwhere()"
   ]
  },
  {
   "cell_type": "code",
   "execution_count": 10,
   "metadata": {},
   "outputs": [
    {
     "data": {
      "text/plain": [
       "(0.4, 0.26666666666666666, 0.26666666666666666, 0.06666666666666667)"
      ]
     },
     "execution_count": 10,
     "metadata": {},
     "output_type": "execute_result"
    }
   ],
   "source": [
    "def getpercentwhy():\n",
    "    with open(\"survey.csv\") as csvFile:\n",
    "        openCSV = csv.reader(csvFile, delimiter=\",\")\n",
    "        next(openCSV)  \n",
    "        sports = 0\n",
    "        health  = 0\n",
    "        looks = 0\n",
    "        destress = 0\n",
    "        rowcount = 0 \n",
    "        for row in openCSV:\n",
    "            why = row[9]\n",
    "            rowcount += 1\n",
    "            if why == \"I want to stay healthy\":\n",
    "               health += 1\n",
    "            elif why == \"sports\":\n",
    "                sports += 1\n",
    "            elif why == \"It helps me clear my head\":\n",
    "                destress += 1\n",
    "            elif why == \"I want to look good\":\n",
    "                looks += 1\n",
    "          \n",
    "           \n",
    "\n",
    "    return (\n",
    "        health/ rowcount, sports/ rowcount, destress / rowcount, looks/ rowcount \n",
    "            )\n",
    "\n",
    "getpercentwhy()"
   ]
  },
  {
   "cell_type": "code",
   "execution_count": 43,
   "metadata": {},
   "outputs": [
    {
     "data": {
      "text/plain": [
       "(0.6, 0.3333333333333333, 0.06666666666666667, 0.0)"
      ]
     },
     "execution_count": 43,
     "metadata": {},
     "output_type": "execute_result"
    }
   ],
   "source": [
    "def getpercentwhy2():\n",
    "    with open(\"survey.csv\") as csvFile:\n",
    "        openCSV = csv.reader(csvFile, delimiter=\",\")\n",
    "        next(openCSV)  \n",
    "        stayinshape = 0\n",
    "        sports  = 0\n",
    "        gains = 0\n",
    "        enjoy = 0\n",
    "        rowcount = 0 \n",
    "        for row in openCSV:\n",
    "            why2 = row[6]\n",
    "            rowcount += 1\n",
    "            if why2 == \"To stay in shape\":\n",
    "               stayinshape += 1\n",
    "            elif why2 == \"Sports require me to\":\n",
    "                sports += 1\n",
    "            elif why2 == \"I enjoy running\":\n",
    "                enjoy += 1\n",
    "            elif why2 == \"To get those gains !!!\":\n",
    "                stayinshape += 1\n",
    "          \n",
    "           \n",
    "\n",
    "    return (\n",
    "        stayinshape/ rowcount, sports/ rowcount, enjoy / rowcount, gains/ rowcount \n",
    "            )\n",
    "\n",
    "getpercentwhy2()"
   ]
  },
  {
   "cell_type": "code",
   "execution_count": 42,
   "metadata": {},
   "outputs": [
    {
     "data": {
      "text/plain": [
       "(0.13333333333333333,\n",
       " 0.4,\n",
       " 0.3333333333333333,\n",
       " 0.06666666666666667,\n",
       " 0.06666666666666667)"
      ]
     },
     "execution_count": 42,
     "metadata": {},
     "output_type": "execute_result"
    }
   ],
   "source": [
    "def getpercentwhy3():\n",
    "    with open(\"survey.csv\") as csvFile:\n",
    "        openCSV = csv.reader(csvFile, delimiter=\",\")\n",
    "        next(openCSV)  \n",
    "        nootheroption = 0\n",
    "        sports  = 0\n",
    "        outside = 0\n",
    "        enjoy = 0\n",
    "        free = 1\n",
    "        rowcount = 0 \n",
    "        for row in openCSV:\n",
    "            why3 = row[8]\n",
    "            rowcount += 1\n",
    "            if why3 == \"I don't want to workout anywhere else\":\n",
    "               nootheroption += 1\n",
    "            elif why3 == \"Sports require me to\":\n",
    "                sports += 1\n",
    "            elif why3 == \"I enjoy the workout options it offers\":\n",
    "                enjoy += 1\n",
    "            elif why3 == \"I like being outside\":\n",
    "                outside += 1\n",
    "           \n",
    "                \n",
    "            \n",
    "          \n",
    "           \n",
    "\n",
    "    return (\n",
    "        nootheroption/ rowcount, sports/ rowcount, enjoy / rowcount, outside/ rowcount, free/rowcount\n",
    "            )\n",
    "\n",
    "getpercentwhy3()"
   ]
  },
  {
   "cell_type": "code",
   "execution_count": null,
   "metadata": {},
   "outputs": [],
   "source": []
  }
 ],
 "metadata": {
  "kernelspec": {
   "display_name": "base",
   "language": "python",
   "name": "python3"
  },
  "language_info": {
   "codemirror_mode": {
    "name": "ipython",
    "version": 3
   },
   "file_extension": ".py",
   "mimetype": "text/x-python",
   "name": "python",
   "nbconvert_exporter": "python",
   "pygments_lexer": "ipython3",
   "version": "3.11.5"
  }
 },
 "nbformat": 4,
 "nbformat_minor": 2
}
